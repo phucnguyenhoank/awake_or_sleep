{
 "cells": [
  {
   "cell_type": "code",
   "execution_count": 1,
   "metadata": {},
   "outputs": [
    {
     "name": "stdout",
     "output_type": "stream",
     "text": [
      "Accuracy: 1.00\n",
      "AccelX_min = 9.375694;\n",
      "AccelX_max = 10.74997;\n",
      "AccelY_min = -0.88346;\n",
      "AccelY_max = 2.142811;\n",
      "AccelZ_min = -1.563414;\n",
      "AccelZ_max = 2.619257;\n",
      "GyroX_min = -1.031476;\n",
      "GyroX_max = 0.501216;\n",
      "GyroY_min = -1.821804;\n",
      "GyroY_max = 1.174034;\n",
      "GyroZ_min = -0.252606;\n",
      "GyroZ_max = 0.099657;\n",
      "IR_min = 974.0;\n",
      "IR_max = 133423.0;\n",
      "|--- AccelY <= 0.59\n",
      "|   |--- IR <= 0.15\n",
      "|   |   |--- class: 1\n",
      "|   |--- IR >  0.15\n",
      "|   |   |--- class: 0\n",
      "|--- AccelY >  0.59\n",
      "|   |--- AccelZ <= 0.92\n",
      "|   |   |--- AccelZ <= 0.82\n",
      "|   |   |   |--- class: 1\n",
      "|   |   |--- AccelZ >  0.82\n",
      "|   |   |   |--- GyroZ <= 0.66\n",
      "|   |   |   |   |--- class: 0\n",
      "|   |   |   |--- GyroZ >  0.66\n",
      "|   |   |   |   |--- class: 1\n",
      "|   |--- AccelZ >  0.92\n",
      "|   |   |--- IR <= 0.89\n",
      "|   |   |   |--- class: 1\n",
      "|   |   |--- IR >  0.89\n",
      "|   |   |   |--- class: 0\n",
      "\n"
     ]
    }
   ],
   "source": [
    "import pandas as pd\n",
    "from sklearn.tree import DecisionTreeClassifier\n",
    "from sklearn.model_selection import train_test_split\n",
    "from sklearn.preprocessing import MinMaxScaler\n",
    "import numpy as np\n",
    "\n",
    "# Load your data\n",
    "data = pd.read_csv(\"./aos_data/merged_phuc_data.csv\")  # Replace with your file\n",
    "features = ['AccelX', 'AccelY', 'AccelZ', 'GyroX', 'GyroY', 'GyroZ', 'IR']\n",
    "X = data[features]\n",
    "y = data['Label'].map({'sleep': 0, 'awake': 1})  # Convert labels to 0/1\n",
    "\n",
    "# Normalize data (save min/max for ESP32)\n",
    "scaler = MinMaxScaler()\n",
    "X_scaled = scaler.fit_transform(X)\n",
    "\n",
    "# Split data\n",
    "X_train, X_test, y_train, y_test = train_test_split(X_scaled, y, test_size=0.2, random_state=42)\n",
    "\n",
    "# Train Decision Tree\n",
    "model = DecisionTreeClassifier(max_depth=4)  # Keep it simple for ESP32\n",
    "model.fit(X_train, y_train)\n",
    "\n",
    "# Evaluate\n",
    "accuracy = model.score(X_test, y_test)\n",
    "print(f\"Accuracy: {accuracy:.2f}\")\n",
    "\n",
    "# Export min/max values for normalization\n",
    "for i, feature in enumerate(features):\n",
    "    print(f\"{feature}_min = {scaler.data_min_[i]};\")\n",
    "    print(f\"{feature}_max = {scaler.data_max_[i]};\")\n",
    "\n",
    "# Manually inspect the tree (for translation to C)\n",
    "from sklearn.tree import export_text\n",
    "tree_rules = export_text(model, feature_names=features)\n",
    "print(tree_rules)"
   ]
  },
  {
   "cell_type": "code",
   "execution_count": null,
   "metadata": {},
   "outputs": [],
   "source": []
  }
 ],
 "metadata": {
  "kernelspec": {
   "display_name": "aiot_env",
   "language": "python",
   "name": "python3"
  },
  "language_info": {
   "codemirror_mode": {
    "name": "ipython",
    "version": 3
   },
   "file_extension": ".py",
   "mimetype": "text/x-python",
   "name": "python",
   "nbconvert_exporter": "python",
   "pygments_lexer": "ipython3",
   "version": "3.9.15"
  }
 },
 "nbformat": 4,
 "nbformat_minor": 2
}
