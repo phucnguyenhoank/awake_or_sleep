{
 "cells": [
  {
   "cell_type": "code",
   "execution_count": 1,
   "metadata": {},
   "outputs": [],
   "source": [
    "import pandas as pd\n",
    "data = pd.read_csv(\"./aos_data/merged_phuc_data.csv\")  # Assuming you save your data as CSV\n"
   ]
  },
  {
   "cell_type": "code",
   "execution_count": 2,
   "metadata": {},
   "outputs": [],
   "source": [
    "\n",
    "from sklearn.preprocessing import MinMaxScaler\n",
    "import numpy as np\n",
    "\n",
    "# Example: Normalize raw features\n",
    "scaler = MinMaxScaler()\n",
    "features = ['AccelX', 'AccelY', 'AccelZ', 'GyroX', 'GyroY', 'GyroZ', 'IR']\n",
    "data[features] = scaler.fit_transform(data[features])\n",
    "\n",
    "# Windowing (simplified, assumes 5 samples per window)\n",
    "window_size = 5\n",
    "X, y = [], []\n",
    "for i in range(0, len(data) - window_size, window_size):\n",
    "    window = data.iloc[i:i+window_size][features].mean().values  # Mean of window\n",
    "    label = data.iloc[i:i+window_size]['Label'].mode()[0]  # Majority label\n",
    "    X.append(window)\n",
    "    y.append(1 if label == 'awake' else 0)\n",
    "X, y = np.array(X), np.array(y)\n"
   ]
  },
  {
   "cell_type": "code",
   "execution_count": 3,
   "metadata": {},
   "outputs": [
    {
     "name": "stdout",
     "output_type": "stream",
     "text": [
      "Epoch 1/20\n",
      "233/233 [==============================] - 2s 4ms/step - loss: 0.4901 - accuracy: 0.9140 - val_loss: 0.2735 - val_accuracy: 0.9973\n",
      "Epoch 2/20\n",
      "233/233 [==============================] - 0s 2ms/step - loss: 0.1313 - accuracy: 0.9973 - val_loss: 0.0501 - val_accuracy: 0.9973\n",
      "Epoch 3/20\n",
      "233/233 [==============================] - 0s 2ms/step - loss: 0.0305 - accuracy: 0.9976 - val_loss: 0.0179 - val_accuracy: 0.9978\n",
      "Epoch 4/20\n",
      "233/233 [==============================] - 0s 2ms/step - loss: 0.0133 - accuracy: 0.9987 - val_loss: 0.0093 - val_accuracy: 0.9989\n",
      "Epoch 5/20\n",
      "233/233 [==============================] - 0s 2ms/step - loss: 0.0074 - accuracy: 0.9996 - val_loss: 0.0055 - val_accuracy: 0.9995\n",
      "Epoch 6/20\n",
      "233/233 [==============================] - 0s 2ms/step - loss: 0.0046 - accuracy: 0.9996 - val_loss: 0.0036 - val_accuracy: 1.0000\n",
      "Epoch 7/20\n",
      "233/233 [==============================] - 0s 2ms/step - loss: 0.0030 - accuracy: 0.9997 - val_loss: 0.0025 - val_accuracy: 1.0000\n",
      "Epoch 8/20\n",
      "233/233 [==============================] - 0s 2ms/step - loss: 0.0021 - accuracy: 1.0000 - val_loss: 0.0018 - val_accuracy: 1.0000\n",
      "Epoch 9/20\n",
      "233/233 [==============================] - 0s 2ms/step - loss: 0.0015 - accuracy: 1.0000 - val_loss: 0.0013 - val_accuracy: 1.0000\n",
      "Epoch 10/20\n",
      "233/233 [==============================] - 0s 2ms/step - loss: 0.0012 - accuracy: 1.0000 - val_loss: 9.8026e-04 - val_accuracy: 1.0000\n",
      "Epoch 11/20\n",
      "233/233 [==============================] - 0s 2ms/step - loss: 8.6999e-04 - accuracy: 1.0000 - val_loss: 7.5937e-04 - val_accuracy: 1.0000\n",
      "Epoch 12/20\n",
      "233/233 [==============================] - 0s 2ms/step - loss: 6.7814e-04 - accuracy: 1.0000 - val_loss: 5.9310e-04 - val_accuracy: 1.0000\n",
      "Epoch 13/20\n",
      "233/233 [==============================] - 0s 2ms/step - loss: 5.4064e-04 - accuracy: 1.0000 - val_loss: 4.7663e-04 - val_accuracy: 1.0000\n",
      "Epoch 14/20\n",
      "233/233 [==============================] - 0s 2ms/step - loss: 4.3125e-04 - accuracy: 1.0000 - val_loss: 3.8283e-04 - val_accuracy: 1.0000\n",
      "Epoch 15/20\n",
      "233/233 [==============================] - 0s 2ms/step - loss: 3.5538e-04 - accuracy: 1.0000 - val_loss: 3.1163e-04 - val_accuracy: 1.0000\n",
      "Epoch 16/20\n",
      "233/233 [==============================] - 1s 2ms/step - loss: 2.8926e-04 - accuracy: 1.0000 - val_loss: 2.5945e-04 - val_accuracy: 1.0000\n",
      "Epoch 17/20\n",
      "233/233 [==============================] - 1s 2ms/step - loss: 2.4044e-04 - accuracy: 1.0000 - val_loss: 2.1477e-04 - val_accuracy: 1.0000\n",
      "Epoch 18/20\n",
      "233/233 [==============================] - 1s 3ms/step - loss: 2.0096e-04 - accuracy: 1.0000 - val_loss: 1.7811e-04 - val_accuracy: 1.0000\n",
      "Epoch 19/20\n",
      "233/233 [==============================] - 0s 2ms/step - loss: 1.6810e-04 - accuracy: 1.0000 - val_loss: 1.5024e-04 - val_accuracy: 1.0000\n",
      "Epoch 20/20\n",
      "233/233 [==============================] - 0s 2ms/step - loss: 1.4251e-04 - accuracy: 1.0000 - val_loss: 1.2630e-04 - val_accuracy: 1.0000\n"
     ]
    },
    {
     "data": {
      "text/plain": [
       "<keras.callbacks.History at 0x1da30348cd0>"
      ]
     },
     "execution_count": 3,
     "metadata": {},
     "output_type": "execute_result"
    }
   ],
   "source": [
    "import tensorflow as tf\n",
    "from sklearn.model_selection import train_test_split\n",
    "\n",
    "X_train, X_test, y_train, y_test = train_test_split(X, y, test_size=0.2)\n",
    "model = tf.keras.Sequential([\n",
    "    tf.keras.layers.Dense(16, activation='relu', input_shape=(len(features),)),\n",
    "    tf.keras.layers.Dense(8, activation='relu'),\n",
    "    tf.keras.layers.Dense(1, activation='sigmoid')\n",
    "])\n",
    "model.compile(optimizer='adam', loss='binary_crossentropy', metrics=['accuracy'])\n",
    "model.fit(X_train, y_train, epochs=20, batch_size=32, validation_data=(X_test, y_test))"
   ]
  },
  {
   "cell_type": "code",
   "execution_count": 4,
   "metadata": {},
   "outputs": [
    {
     "name": "stdout",
     "output_type": "stream",
     "text": [
      "INFO:tensorflow:Assets written to: C:\\Users\\nguye\\AppData\\Local\\Temp\\tmpim_o9w0i\\assets\n"
     ]
    }
   ],
   "source": [
    "converter = tf.lite.TFLiteConverter.from_keras_model(model)\n",
    "converter.optimizations = [tf.lite.Optimize.DEFAULT]  # Optimize for size\n",
    "tflite_model = converter.convert()\n",
    "\n",
    "# Save the model\n",
    "with open('sleep_model.tflite', 'wb') as f:\n",
    "    f.write(tflite_model)"
   ]
  },
  {
   "cell_type": "code",
   "execution_count": 5,
   "metadata": {},
   "outputs": [
    {
     "name": "stdout",
     "output_type": "stream",
     "text": [
      "AccelX: min = 9.375694, max = 10.74997\n",
      "AccelY: min = -0.88346, max = 2.142811\n",
      "AccelZ: min = -1.563414, max = 2.619257\n",
      "GyroX: min = -1.031476, max = 0.501216\n",
      "GyroY: min = -1.821804, max = 1.174034\n",
      "GyroZ: min = -0.252606, max = 0.099657\n",
      "IR: min = 974.0, max = 133423.0\n"
     ]
    }
   ],
   "source": [
    "# Extract min and max values\n",
    "min_values = scaler.data_min_\n",
    "max_values = scaler.data_max_\n",
    "\n",
    "# Print them for reference\n",
    "for feature, min_val, max_val in zip(features, min_values, max_values):\n",
    "    print(f\"{feature}: min = {min_val}, max = {max_val}\")"
   ]
  },
  {
   "cell_type": "code",
   "execution_count": null,
   "metadata": {},
   "outputs": [],
   "source": []
  }
 ],
 "metadata": {
  "kernelspec": {
   "display_name": "aiot_env",
   "language": "python",
   "name": "python3"
  },
  "language_info": {
   "codemirror_mode": {
    "name": "ipython",
    "version": 3
   },
   "file_extension": ".py",
   "mimetype": "text/x-python",
   "name": "python",
   "nbconvert_exporter": "python",
   "pygments_lexer": "ipython3",
   "version": "3.9.15"
  }
 },
 "nbformat": 4,
 "nbformat_minor": 2
}
