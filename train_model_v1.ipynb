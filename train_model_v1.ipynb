{
 "cells": [
  {
   "cell_type": "code",
   "execution_count": 1,
   "metadata": {},
   "outputs": [],
   "source": [
    "import pandas as pd\n",
    "data = pd.read_csv(\"./aos_data/merged_phuc_data.csv\")  # Assuming you save your data as CSV\n"
   ]
  },
  {
   "cell_type": "code",
   "execution_count": null,
   "metadata": {},
   "outputs": [],
   "source": [
    "\n",
    "from sklearn.preprocessing import MinMaxScaler\n",
    "import numpy as np\n",
    "\n",
    "# Example: Normalize raw features\n",
    "scaler = MinMaxScaler()\n",
    "features = ['AccelX', 'AccelY', 'AccelZ', 'GyroX', 'GyroY', 'GyroZ', 'IR']\n",
    "data[features] = scaler.fit_transform(data[features])\n",
    "\n",
    "# Windowing (simplified, assumes 5 samples per window)\n",
    "window_size = 5\n",
    "X, y = [], []\n",
    "for i in range(0, len(data) - window_size, window_size):\n",
    "    window = data.iloc[i:i+window_size][features].mean().values  # Mean of window\n",
    "    label = data.iloc[i:i+window_size]['Label'].mode()[0]  # Majority label\n",
    "    X.append(window)\n",
    "    y.append(1 if label == 'awake' else 0)\n",
    "X, y = np.array(X), np.array(y)\n"
   ]
  },
  {
   "cell_type": "code",
   "execution_count": 3,
   "metadata": {},
   "outputs": [
    {
     "name": "stdout",
     "output_type": "stream",
     "text": [
      "Epoch 1/20\n",
      "48/48 [==============================] - 2s 11ms/step - loss: 0.6851 - accuracy: 0.5668 - val_loss: 0.6896 - val_accuracy: 0.5469\n",
      "Epoch 2/20\n",
      "48/48 [==============================] - 0s 3ms/step - loss: 0.6826 - accuracy: 0.5668 - val_loss: 0.6879 - val_accuracy: 0.5469\n",
      "Epoch 3/20\n",
      "48/48 [==============================] - 0s 4ms/step - loss: 0.6820 - accuracy: 0.5668 - val_loss: 0.6874 - val_accuracy: 0.5469\n",
      "Epoch 4/20\n",
      "48/48 [==============================] - 0s 4ms/step - loss: 0.6812 - accuracy: 0.5668 - val_loss: 0.6863 - val_accuracy: 0.5469\n",
      "Epoch 5/20\n",
      "48/48 [==============================] - 0s 4ms/step - loss: 0.6805 - accuracy: 0.5668 - val_loss: 0.6858 - val_accuracy: 0.5469\n",
      "Epoch 6/20\n",
      "48/48 [==============================] - 0s 4ms/step - loss: 0.6797 - accuracy: 0.5668 - val_loss: 0.6850 - val_accuracy: 0.5469\n",
      "Epoch 7/20\n",
      "48/48 [==============================] - 0s 4ms/step - loss: 0.6786 - accuracy: 0.5668 - val_loss: 0.6836 - val_accuracy: 0.5469\n",
      "Epoch 8/20\n",
      "48/48 [==============================] - 0s 4ms/step - loss: 0.6776 - accuracy: 0.5668 - val_loss: 0.6827 - val_accuracy: 0.5469\n",
      "Epoch 9/20\n",
      "48/48 [==============================] - 0s 3ms/step - loss: 0.6763 - accuracy: 0.5668 - val_loss: 0.6819 - val_accuracy: 0.5469\n",
      "Epoch 10/20\n",
      "48/48 [==============================] - 0s 4ms/step - loss: 0.6751 - accuracy: 0.5668 - val_loss: 0.6797 - val_accuracy: 0.5469\n",
      "Epoch 11/20\n",
      "48/48 [==============================] - 0s 4ms/step - loss: 0.6731 - accuracy: 0.5668 - val_loss: 0.6783 - val_accuracy: 0.5469\n",
      "Epoch 12/20\n",
      "48/48 [==============================] - 0s 4ms/step - loss: 0.6714 - accuracy: 0.5681 - val_loss: 0.6765 - val_accuracy: 0.5547\n",
      "Epoch 13/20\n",
      "48/48 [==============================] - 0s 4ms/step - loss: 0.6694 - accuracy: 0.5772 - val_loss: 0.6750 - val_accuracy: 0.5599\n",
      "Epoch 14/20\n",
      "48/48 [==============================] - 0s 4ms/step - loss: 0.6674 - accuracy: 0.5850 - val_loss: 0.6731 - val_accuracy: 0.5781\n",
      "Epoch 15/20\n",
      "48/48 [==============================] - 0s 3ms/step - loss: 0.6655 - accuracy: 0.5922 - val_loss: 0.6717 - val_accuracy: 0.5781\n",
      "Epoch 16/20\n",
      "48/48 [==============================] - 0s 3ms/step - loss: 0.6625 - accuracy: 0.5967 - val_loss: 0.6692 - val_accuracy: 0.6042\n",
      "Epoch 17/20\n",
      "48/48 [==============================] - 0s 3ms/step - loss: 0.6602 - accuracy: 0.6163 - val_loss: 0.6678 - val_accuracy: 0.5885\n",
      "Epoch 18/20\n",
      "48/48 [==============================] - 0s 4ms/step - loss: 0.6572 - accuracy: 0.6143 - val_loss: 0.6640 - val_accuracy: 0.5964\n",
      "Epoch 19/20\n",
      "48/48 [==============================] - 0s 3ms/step - loss: 0.6540 - accuracy: 0.6228 - val_loss: 0.6611 - val_accuracy: 0.6042\n",
      "Epoch 20/20\n",
      "48/48 [==============================] - 0s 3ms/step - loss: 0.6498 - accuracy: 0.6254 - val_loss: 0.6561 - val_accuracy: 0.6068\n"
     ]
    },
    {
     "data": {
      "text/plain": [
       "<keras.callbacks.History at 0x1ffc6da6b20>"
      ]
     },
     "execution_count": 3,
     "metadata": {},
     "output_type": "execute_result"
    }
   ],
   "source": [
    "import tensorflow as tf\n",
    "from sklearn.model_selection import train_test_split\n",
    "\n",
    "X_train, X_test, y_train, y_test = train_test_split(X, y, test_size=0.2)\n",
    "model = tf.keras.Sequential([\n",
    "    tf.keras.layers.Dense(16, activation='relu', input_shape=(len(features),)),\n",
    "    tf.keras.layers.Dense(8, activation='relu'),\n",
    "    tf.keras.layers.Dense(1, activation='sigmoid')\n",
    "])\n",
    "model.compile(optimizer='adam', loss='binary_crossentropy', metrics=['accuracy'])\n",
    "model.fit(X_train, y_train, epochs=20, batch_size=32, validation_data=(X_test, y_test))"
   ]
  },
  {
   "cell_type": "code",
   "execution_count": 4,
   "metadata": {},
   "outputs": [
    {
     "name": "stdout",
     "output_type": "stream",
     "text": [
      "INFO:tensorflow:Assets written to: C:\\Users\\nguye\\AppData\\Local\\Temp\\tmpxtrff5vt\\assets\n"
     ]
    }
   ],
   "source": [
    "converter = tf.lite.TFLiteConverter.from_keras_model(model)\n",
    "converter.optimizations = [tf.lite.Optimize.DEFAULT]  # Optimize for size\n",
    "tflite_model = converter.convert()\n",
    "\n",
    "# Save the model\n",
    "with open('sleep_model.tflite', 'wb') as f:\n",
    "    f.write(tflite_model)"
   ]
  },
  {
   "cell_type": "code",
   "execution_count": 7,
   "metadata": {},
   "outputs": [
    {
     "name": "stdout",
     "output_type": "stream",
     "text": [
      "AccelX: min = 9.196129, max = 10.69969\n",
      "AccelY: min = -0.258574, max = 0.653617\n",
      "AccelZ: min = 0.998382, max = 1.668759\n",
      "GyroX: min = -0.274456, max = 0.079406\n",
      "GyroY: min = 0.00906, max = 0.037305\n",
      "GyroZ: min = -0.055158, max = 0.002665\n",
      "IR: min = 115848.0, max = 135484.0\n"
     ]
    }
   ],
   "source": [
    "# Extract min and max values\n",
    "min_values = scaler.data_min_\n",
    "max_values = scaler.data_max_\n",
    "\n",
    "# Print them for reference\n",
    "for feature, min_val, max_val in zip(features, min_values, max_values):\n",
    "    print(f\"{feature}: min = {min_val}, max = {max_val}\")"
   ]
  },
  {
   "cell_type": "code",
   "execution_count": null,
   "metadata": {},
   "outputs": [],
   "source": []
  }
 ],
 "metadata": {
  "kernelspec": {
   "display_name": "aiot_env",
   "language": "python",
   "name": "python3"
  },
  "language_info": {
   "codemirror_mode": {
    "name": "ipython",
    "version": 3
   },
   "file_extension": ".py",
   "mimetype": "text/x-python",
   "name": "python",
   "nbconvert_exporter": "python",
   "pygments_lexer": "ipython3",
   "version": "3.9.21"
  }
 },
 "nbformat": 4,
 "nbformat_minor": 2
}
