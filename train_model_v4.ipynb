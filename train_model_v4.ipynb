{
 "cells": [
  {
   "cell_type": "code",
   "execution_count": 1,
   "metadata": {},
   "outputs": [
    {
     "name": "stdout",
     "output_type": "stream",
     "text": [
      "Accuracy: 1.00\n",
      "Number of support vectors: [41 44]\n",
      "Model exported to svm_model.h and scaler_values.h\n"
     ]
    }
   ],
   "source": [
    "import pandas as pd\n",
    "import numpy as np\n",
    "from sklearn.svm import SVC\n",
    "from sklearn.model_selection import train_test_split\n",
    "from sklearn.preprocessing import MinMaxScaler\n",
    "\n",
    "# Load your data\n",
    "data = pd.read_csv(\"./aos_data/merged_phuc_data.csv\")\n",
    "features = ['AccelX', 'AccelY', 'AccelZ', 'GyroX', 'GyroY', 'GyroZ', 'IR']\n",
    "X = data[features]\n",
    "y = data['Label'].map({'sleep': 0, 'awake': 1})\n",
    "\n",
    "# Normalize data\n",
    "scaler = MinMaxScaler()\n",
    "X_scaled = scaler.fit_transform(X)\n",
    "\n",
    "# Split data\n",
    "X_train, X_test, y_train, y_test = train_test_split(X_scaled, y, test_size=0.2, random_state=42)\n",
    "\n",
    "# Train SVM (linear kernel for simplicity)\n",
    "model = SVC(kernel='linear', C=1.0)  # C controls regularization, adjust if needed\n",
    "model.fit(X_train, y_train)\n",
    "\n",
    "# Evaluate\n",
    "accuracy = model.score(X_test, y_test)\n",
    "print(f\"Accuracy: {accuracy:.2f}\")\n",
    "print(f\"Number of support vectors: {model.n_support_}\")\n",
    "\n",
    "# Export min/max values\n",
    "with open(\"scaler_values.h\", \"w\") as f:\n",
    "    f.write(\"// Scaler values\\n\")\n",
    "    for i, feature in enumerate(features):\n",
    "        f.write(f\"const float {feature}_min = {scaler.data_min_[i]}f;\\n\")\n",
    "        f.write(f\"const float {feature}_max = {scaler.data_max_[i]}f;\\n\")\n",
    "\n",
    "# Export SVM model to C header\n",
    "with open(\"svm_model.h\", \"w\") as f:\n",
    "    f.write(\"#ifndef SVM_MODEL_H\\n\")\n",
    "    f.write(\"#define SVM_MODEL_H\\n\\n\")\n",
    "    f.write(f\"const int n_features = {len(features)};\\n\")\n",
    "    f.write(f\"const int n_support_vectors = {sum(model.n_support_)};\\n\\n\")\n",
    "    \n",
    "    # Support vectors\n",
    "    sv_flat = model.support_vectors_.flatten()\n",
    "    f.write(\"const float support_vectors[] = {\\n\")\n",
    "    for i, val in enumerate(sv_flat):\n",
    "        f.write(f\"{val}f\")\n",
    "        if i < len(sv_flat) - 1:\n",
    "            f.write(\", \")\n",
    "        if (i + 1) % 7 == 0:  # Line break every 7 values (n_features)\n",
    "            f.write(\"\\n\")\n",
    "    f.write(\"\\n};\\n\\n\")\n",
    "    \n",
    "    # Dual coefficients (alpha * y)\n",
    "    coef_flat = model.dual_coef_.flatten()\n",
    "    f.write(\"const float dual_coef[] = {\\n\")\n",
    "    for i, val in enumerate(coef_flat):\n",
    "        f.write(f\"{val}f\")\n",
    "        if i < len(coef_flat) - 1:\n",
    "            f.write(\", \")\n",
    "        if (i + 1) % 10 == 0:  # Line break every 10 values\n",
    "            f.write(\"\\n\")\n",
    "    f.write(\"\\n};\\n\\n\")\n",
    "    \n",
    "    # Intercept\n",
    "    f.write(f\"const float intercept = {model.intercept_[0]}f;\\n\")\n",
    "    f.write(\"#endif\\n\")\n",
    "\n",
    "print(\"Model exported to svm_model.h and scaler_values.h\")"
   ]
  },
  {
   "cell_type": "code",
   "execution_count": null,
   "metadata": {},
   "outputs": [],
   "source": []
  }
 ],
 "metadata": {
  "kernelspec": {
   "display_name": "aiot_env",
   "language": "python",
   "name": "python3"
  },
  "language_info": {
   "codemirror_mode": {
    "name": "ipython",
    "version": 3
   },
   "file_extension": ".py",
   "mimetype": "text/x-python",
   "name": "python",
   "nbconvert_exporter": "python",
   "pygments_lexer": "ipython3",
   "version": "3.9.15"
  }
 },
 "nbformat": 4,
 "nbformat_minor": 2
}
